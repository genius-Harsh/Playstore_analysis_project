{
 "cells": [
  {
   "cell_type": "markdown",
   "id": "d73829fb",
   "metadata": {},
   "source": [
    "# Playstore Apps Analysis project\n"
   ]
  },
  {
   "cell_type": "code",
   "execution_count": 1,
   "id": "83f4e80f",
   "metadata": {},
   "outputs": [],
   "source": [
    "#Importing Libraries\n",
    "\n",
    "import pandas as pd\n",
    "import numpy as np\n",
    "from numpy import nan"
   ]
  },
  {
   "cell_type": "markdown",
   "id": "1c954b8f",
   "metadata": {},
   "source": [
    "### Importing Raw data from 1st dataset\n"
   ]
  },
  {
   "cell_type": "code",
   "execution_count": 2,
   "id": "c5df9332",
   "metadata": {},
   "outputs": [
    {
     "name": "stdout",
     "output_type": "stream",
     "text": [
      "(10841, 12)\n"
     ]
    },
    {
     "data": {
      "text/html": [
       "<div>\n",
       "<style scoped>\n",
       "    .dataframe tbody tr th:only-of-type {\n",
       "        vertical-align: middle;\n",
       "    }\n",
       "\n",
       "    .dataframe tbody tr th {\n",
       "        vertical-align: top;\n",
       "    }\n",
       "\n",
       "    .dataframe thead th {\n",
       "        text-align: right;\n",
       "    }\n",
       "</style>\n",
       "<table border=\"1\" class=\"dataframe\">\n",
       "  <thead>\n",
       "    <tr style=\"text-align: right;\">\n",
       "      <th></th>\n",
       "      <th>Category</th>\n",
       "      <th>Rating</th>\n",
       "      <th>Reviews</th>\n",
       "      <th>Size</th>\n",
       "      <th>Installs</th>\n",
       "      <th>Type</th>\n",
       "      <th>Price</th>\n",
       "      <th>Content Rating</th>\n",
       "      <th>Genres</th>\n",
       "      <th>Last Updated</th>\n",
       "      <th>Current Ver</th>\n",
       "      <th>Android Ver</th>\n",
       "    </tr>\n",
       "    <tr>\n",
       "      <th>App</th>\n",
       "      <th></th>\n",
       "      <th></th>\n",
       "      <th></th>\n",
       "      <th></th>\n",
       "      <th></th>\n",
       "      <th></th>\n",
       "      <th></th>\n",
       "      <th></th>\n",
       "      <th></th>\n",
       "      <th></th>\n",
       "      <th></th>\n",
       "      <th></th>\n",
       "    </tr>\n",
       "  </thead>\n",
       "  <tbody>\n",
       "    <tr>\n",
       "      <th>Photo Editor &amp; Candy Camera &amp; Grid &amp; ScrapBook</th>\n",
       "      <td>ART_AND_DESIGN</td>\n",
       "      <td>4.1</td>\n",
       "      <td>159.0</td>\n",
       "      <td>19M</td>\n",
       "      <td>10000.0</td>\n",
       "      <td>Free</td>\n",
       "      <td>0.0</td>\n",
       "      <td>Everyone</td>\n",
       "      <td>Art &amp; Design</td>\n",
       "      <td>07-01-2018</td>\n",
       "      <td>1.0.0</td>\n",
       "      <td>4.0.3 and up</td>\n",
       "    </tr>\n",
       "    <tr>\n",
       "      <th>Coloring book moana</th>\n",
       "      <td>ART_AND_DESIGN</td>\n",
       "      <td>3.9</td>\n",
       "      <td>967.0</td>\n",
       "      <td>14M</td>\n",
       "      <td>500000.0</td>\n",
       "      <td>Free</td>\n",
       "      <td>0.0</td>\n",
       "      <td>Everyone</td>\n",
       "      <td>Art &amp; Design;Pretend Play</td>\n",
       "      <td>15-01-2018</td>\n",
       "      <td>2.0.0</td>\n",
       "      <td>4.0.3 and up</td>\n",
       "    </tr>\n",
       "    <tr>\n",
       "      <th>U Launcher Lite – FREE Live Cool Themes, Hide Apps</th>\n",
       "      <td>ART_AND_DESIGN</td>\n",
       "      <td>4.7</td>\n",
       "      <td>87510.0</td>\n",
       "      <td>8.7M</td>\n",
       "      <td>5000000.0</td>\n",
       "      <td>Free</td>\n",
       "      <td>0.0</td>\n",
       "      <td>Everyone</td>\n",
       "      <td>Art &amp; Design</td>\n",
       "      <td>01-08-2018</td>\n",
       "      <td>1.2.4</td>\n",
       "      <td>4.0.3 and up</td>\n",
       "    </tr>\n",
       "    <tr>\n",
       "      <th>Sketch - Draw &amp; Paint</th>\n",
       "      <td>ART_AND_DESIGN</td>\n",
       "      <td>4.5</td>\n",
       "      <td>215644.0</td>\n",
       "      <td>25M</td>\n",
       "      <td>50000000.0</td>\n",
       "      <td>Free</td>\n",
       "      <td>0.0</td>\n",
       "      <td>Teen</td>\n",
       "      <td>Art &amp; Design</td>\n",
       "      <td>08-06-2018</td>\n",
       "      <td>Varies with device</td>\n",
       "      <td>4.2 and up</td>\n",
       "    </tr>\n",
       "    <tr>\n",
       "      <th>Pixel Draw - Number Art Coloring Book</th>\n",
       "      <td>ART_AND_DESIGN</td>\n",
       "      <td>4.3</td>\n",
       "      <td>967.0</td>\n",
       "      <td>2.8M</td>\n",
       "      <td>100000.0</td>\n",
       "      <td>Free</td>\n",
       "      <td>0.0</td>\n",
       "      <td>Everyone</td>\n",
       "      <td>Art &amp; Design;Creativity</td>\n",
       "      <td>20-06-2018</td>\n",
       "      <td>1.1</td>\n",
       "      <td>4.4 and up</td>\n",
       "    </tr>\n",
       "  </tbody>\n",
       "</table>\n",
       "</div>"
      ],
      "text/plain": [
       "                                                          Category  Rating  \\\n",
       "App                                                                          \n",
       "Photo Editor & Candy Camera & Grid & ScrapBook      ART_AND_DESIGN     4.1   \n",
       "Coloring book moana                                 ART_AND_DESIGN     3.9   \n",
       "U Launcher Lite – FREE Live Cool Themes, Hide Apps  ART_AND_DESIGN     4.7   \n",
       "Sketch - Draw & Paint                               ART_AND_DESIGN     4.5   \n",
       "Pixel Draw - Number Art Coloring Book               ART_AND_DESIGN     4.3   \n",
       "\n",
       "                                                     Reviews  Size  \\\n",
       "App                                                                  \n",
       "Photo Editor & Candy Camera & Grid & ScrapBook         159.0   19M   \n",
       "Coloring book moana                                    967.0   14M   \n",
       "U Launcher Lite – FREE Live Cool Themes, Hide Apps   87510.0  8.7M   \n",
       "Sketch - Draw & Paint                               215644.0   25M   \n",
       "Pixel Draw - Number Art Coloring Book                  967.0  2.8M   \n",
       "\n",
       "                                                      Installs  Type  Price  \\\n",
       "App                                                                           \n",
       "Photo Editor & Candy Camera & Grid & ScrapBook         10000.0  Free    0.0   \n",
       "Coloring book moana                                   500000.0  Free    0.0   \n",
       "U Launcher Lite – FREE Live Cool Themes, Hide Apps   5000000.0  Free    0.0   \n",
       "Sketch - Draw & Paint                               50000000.0  Free    0.0   \n",
       "Pixel Draw - Number Art Coloring Book                 100000.0  Free    0.0   \n",
       "\n",
       "                                                   Content Rating  \\\n",
       "App                                                                 \n",
       "Photo Editor & Candy Camera & Grid & ScrapBook           Everyone   \n",
       "Coloring book moana                                      Everyone   \n",
       "U Launcher Lite – FREE Live Cool Themes, Hide Apps       Everyone   \n",
       "Sketch - Draw & Paint                                        Teen   \n",
       "Pixel Draw - Number Art Coloring Book                    Everyone   \n",
       "\n",
       "                                                                       Genres  \\\n",
       "App                                                                             \n",
       "Photo Editor & Candy Camera & Grid & ScrapBook                   Art & Design   \n",
       "Coloring book moana                                 Art & Design;Pretend Play   \n",
       "U Launcher Lite – FREE Live Cool Themes, Hide Apps               Art & Design   \n",
       "Sketch - Draw & Paint                                            Art & Design   \n",
       "Pixel Draw - Number Art Coloring Book                 Art & Design;Creativity   \n",
       "\n",
       "                                                   Last Updated  \\\n",
       "App                                                               \n",
       "Photo Editor & Candy Camera & Grid & ScrapBook       07-01-2018   \n",
       "Coloring book moana                                  15-01-2018   \n",
       "U Launcher Lite – FREE Live Cool Themes, Hide Apps   01-08-2018   \n",
       "Sketch - Draw & Paint                                08-06-2018   \n",
       "Pixel Draw - Number Art Coloring Book                20-06-2018   \n",
       "\n",
       "                                                           Current Ver  \\\n",
       "App                                                                      \n",
       "Photo Editor & Candy Camera & Grid & ScrapBook                   1.0.0   \n",
       "Coloring book moana                                              2.0.0   \n",
       "U Launcher Lite – FREE Live Cool Themes, Hide Apps               1.2.4   \n",
       "Sketch - Draw & Paint                               Varies with device   \n",
       "Pixel Draw - Number Art Coloring Book                              1.1   \n",
       "\n",
       "                                                     Android Ver  \n",
       "App                                                               \n",
       "Photo Editor & Candy Camera & Grid & ScrapBook      4.0.3 and up  \n",
       "Coloring book moana                                 4.0.3 and up  \n",
       "U Launcher Lite – FREE Live Cool Themes, Hide Apps  4.0.3 and up  \n",
       "Sketch - Draw & Paint                                 4.2 and up  \n",
       "Pixel Draw - Number Art Coloring Book                 4.4 and up  "
      ]
     },
     "execution_count": 2,
     "metadata": {},
     "output_type": "execute_result"
    }
   ],
   "source": [
    "\n",
    "path = \"D:\\CAT 2020\\python\\python Git projects\\playstoreliveproj\\Raw dataset\\playstore_apps.csv\"\n",
    "data_app = pd.read_csv(path, index_col = \"App\")\n",
    "print(data_app.shape)\n",
    "data_app.head()"
   ]
  },
  {
   "cell_type": "markdown",
   "id": "17f3f0fe",
   "metadata": {},
   "source": [
    "### Data Wrangling"
   ]
  },
  {
   "cell_type": "code",
   "execution_count": 3,
   "id": "9ffbbfb0",
   "metadata": {},
   "outputs": [
    {
     "name": "stdout",
     "output_type": "stream",
     "text": [
      "<class 'pandas.core.frame.DataFrame'>\n",
      "Index: 10349 entries, Photo Editor & Candy Camera & Grid & ScrapBook to iHoroscope - 2018 Daily Horoscope & Astrology\n",
      "Data columns (total 12 columns):\n",
      " #   Column          Non-Null Count  Dtype  \n",
      "---  ------          --------------  -----  \n",
      " 0   Category        10349 non-null  object \n",
      " 1   Rating          10349 non-null  float64\n",
      " 2   Reviews         10348 non-null  float64\n",
      " 3   Size            10349 non-null  object \n",
      " 4   Installs        10348 non-null  float64\n",
      " 5   Type            10348 non-null  object \n",
      " 6   Price           10348 non-null  float64\n",
      " 7   Content Rating  10348 non-null  object \n",
      " 8   Genres          10349 non-null  object \n",
      " 9   Last Updated    10348 non-null  object \n",
      " 10  Current Ver     10341 non-null  object \n",
      " 11  Android Ver     10346 non-null  object \n",
      "dtypes: float64(4), object(8)\n",
      "memory usage: 1.0+ MB\n"
     ]
    }
   ],
   "source": [
    "#Removing duplicates\n",
    "\n",
    "data_app.drop_duplicates(keep = 'first', inplace = True)\n",
    "data_app.shape\n",
    "data_app.info()"
   ]
  },
  {
   "cell_type": "code",
   "execution_count": 4,
   "id": "9a17b716",
   "metadata": {},
   "outputs": [
    {
     "name": "stdout",
     "output_type": "stream",
     "text": [
      "['ART_AND_DESIGN' 'AUTO_AND_VEHICLES' 'BEAUTY' 'BOOKS_AND_REFERENCE'\n",
      " 'BUSINESS' 'COMICS' 'COMMUNICATION' 'DATING' 'EDUCATION' 'ENTERTAINMENT'\n",
      " 'EVENTS' 'FINANCE' 'FOOD_AND_DRINK' 'HEALTH_AND_FITNESS' 'HOUSE_AND_HOME'\n",
      " 'LIBRARIES_AND_DEMO' 'LIFESTYLE' 'GAME' 'FAMILY' 'MEDICAL' 'SOCIAL'\n",
      " 'SHOPPING' 'PHOTOGRAPHY' 'SPORTS' 'TRAVEL_AND_LOCAL' 'TOOLS'\n",
      " 'PERSONALIZATION' 'PRODUCTIVITY' 'PARENTING' 'WEATHER' 'VIDEO_PLAYERS'\n",
      " 'NEWS_AND_MAGAZINES' 'MAPS_AND_NAVIGATION' '1.9']\n"
     ]
    }
   ],
   "source": [
    "#removing irrelevant contents form each column\n",
    "# column 1 - category\n",
    "\n",
    "print(data_app['Category'].unique())"
   ]
  },
  {
   "cell_type": "code",
   "execution_count": 5,
   "id": "2ba64371",
   "metadata": {},
   "outputs": [
    {
     "name": "stdout",
     "output_type": "stream",
     "text": [
      "                                        Category  Rating  Reviews    Size  \\\n",
      "App                                                                         \n",
      "Life Made WI-Fi Touchscreen Photo Frame      1.9    19.0      NaN  1,000+   \n",
      "\n",
      "                                         Installs Type  Price Content Rating  \\\n",
      "App                                                                            \n",
      "Life Made WI-Fi Touchscreen Photo Frame       NaN    0    NaN            NaN   \n",
      "\n",
      "                                                    Genres Last Updated  \\\n",
      "App                                                                       \n",
      "Life Made WI-Fi Touchscreen Photo Frame  February 11, 2018          NaN   \n",
      "\n",
      "                                        Current Ver Android Ver  \n",
      "App                                                              \n",
      "Life Made WI-Fi Touchscreen Photo Frame  4.0 and up         NaN  \n"
     ]
    }
   ],
   "source": [
    "print(data_app[data_app['Category'] == '1.9'])"
   ]
  },
  {
   "cell_type": "code",
   "execution_count": 6,
   "id": "9fc60a66",
   "metadata": {},
   "outputs": [
    {
     "data": {
      "text/plain": [
       "array(['ART_AND_DESIGN', 'AUTO_AND_VEHICLES', 'BEAUTY',\n",
       "       'BOOKS_AND_REFERENCE', 'BUSINESS', 'COMICS', 'COMMUNICATION',\n",
       "       'DATING', 'EDUCATION', 'ENTERTAINMENT', 'EVENTS', 'FINANCE',\n",
       "       'FOOD_AND_DRINK', 'HEALTH_AND_FITNESS', 'HOUSE_AND_HOME',\n",
       "       'LIBRARIES_AND_DEMO', 'LIFESTYLE', 'GAME', 'FAMILY', 'MEDICAL',\n",
       "       'SOCIAL', 'SHOPPING', 'PHOTOGRAPHY', 'SPORTS', 'TRAVEL_AND_LOCAL',\n",
       "       'TOOLS', 'PERSONALIZATION', 'PRODUCTIVITY', 'PARENTING', 'WEATHER',\n",
       "       'VIDEO_PLAYERS', 'NEWS_AND_MAGAZINES', 'MAPS_AND_NAVIGATION'],\n",
       "      dtype=object)"
      ]
     },
     "execution_count": 6,
     "metadata": {},
     "output_type": "execute_result"
    }
   ],
   "source": [
    "data_app.drop('Life Made WI-Fi Touchscreen Photo Frame', inplace = True)\n",
    "data_app['Category'].unique()"
   ]
  },
  {
   "cell_type": "code",
   "execution_count": 7,
   "id": "2267e0ae",
   "metadata": {},
   "outputs": [
    {
     "name": "stdout",
     "output_type": "stream",
     "text": [
      "[4.1 3.9 4.7 4.5 4.3 4.4 3.8 4.2 4.6 3.2 4.  0.  4.8 4.9 3.6 3.7 3.3 3.4\n",
      " 3.5 3.1 5.  2.6 3.  1.9 2.5 2.8 2.7 1.  2.9 2.3 2.2 1.7 2.  1.8 2.4 1.6\n",
      " 2.1 1.4 1.5 1.2]\n"
     ]
    }
   ],
   "source": [
    "# column 2 - Rating\n",
    "\n",
    "print(data_app['Rating'].unique())"
   ]
  },
  {
   "cell_type": "code",
   "execution_count": 8,
   "id": "ed184356",
   "metadata": {},
   "outputs": [],
   "source": [
    "data_app['Rating'] = data_app['Rating'].fillna(0)"
   ]
  },
  {
   "cell_type": "code",
   "execution_count": 9,
   "id": "d1ef6f2c",
   "metadata": {},
   "outputs": [
    {
     "name": "stdout",
     "output_type": "stream",
     "text": [
      "[4.1 3.9 4.7 4.5 4.3 4.4 3.8 4.2 4.6 3.2 4.  0.  4.8 4.9 3.6 3.7 3.3 3.4\n",
      " 3.5 3.1 5.  2.6 3.  1.9 2.5 2.8 2.7 1.  2.9 2.3 2.2 1.7 2.  1.8 2.4 1.6\n",
      " 2.1 1.4 1.5 1.2]\n"
     ]
    }
   ],
   "source": [
    "print(data_app['Rating'].unique())"
   ]
  },
  {
   "cell_type": "code",
   "execution_count": 10,
   "id": "ace56a37",
   "metadata": {},
   "outputs": [
    {
     "name": "stdout",
     "output_type": "stream",
     "text": [
      "Empty DataFrame\n",
      "Columns: [Category, Rating, Reviews, Size, Installs, Type, Price, Content Rating, Genres, Last Updated, Current Ver, Android Ver]\n",
      "Index: []\n"
     ]
    }
   ],
   "source": [
    "# column 3 - Reviews\n",
    "print(data_app[data_app['Reviews'].isna()])"
   ]
  },
  {
   "cell_type": "code",
   "execution_count": 11,
   "id": "de914cd9",
   "metadata": {},
   "outputs": [
    {
     "name": "stdout",
     "output_type": "stream",
     "text": [
      "['19M' '14M' '8.7M' '25M' '2.8M' '5.6M' '29M' '33M' '3.1M' '28M' '12M'\n",
      " '20M' '21M' '37M' '2.7M' '5.5M' '17M' '39M' '31M' '4.2M' '7.0M' '23M'\n",
      " '6.0M' '6.1M' '4.6M' '9.2M' '5.2M' '11M' '24M' 'Varies with device'\n",
      " '9.4M' '15M' '10M' '1.2M' '26M' '8.0M' '7.9M' '56M' '57M' '35M' '54M'\n",
      " '201k' '3.6M' '5.7M' '8.6M' '2.4M' '27M' '2.5M' '16M' '3.4M' '8.9M'\n",
      " '3.9M' '2.9M' '38M' '32M' '5.4M' '18M' '1.1M' '2.2M' '4.5M' '9.8M' '52M'\n",
      " '9.0M' '6.7M' '30M' '2.6M' '7.1M' '3.7M' '22M' '7.4M' '6.4M' '3.2M'\n",
      " '8.2M' '9.9M' '4.9M' '9.5M' '5.0M' '5.9M' '13M' '73M' '6.8M' '3.5M'\n",
      " '4.0M' '2.3M' '7.2M' '2.1M' '42M' '7.3M' '9.1M' '55M' '23k' '6.5M' '1.5M'\n",
      " '7.5M' '51M' '41M' '48M' '8.5M' '46M' '8.3M' '4.3M' '4.7M' '3.3M' '40M'\n",
      " '7.8M' '8.8M' '6.6M' '5.1M' '61M' '66M' '79k' '8.4M' '118k' '44M' '695k'\n",
      " '1.6M' '6.2M' '18k' '53M' '1.4M' '3.0M' '5.8M' '3.8M' '9.6M' '45M' '63M'\n",
      " '49M' '77M' '4.4M' '4.8M' '70M' '6.9M' '9.3M' '10.0M' '8.1M' '36M' '84M'\n",
      " '97M' '2.0M' '1.9M' '1.8M' '5.3M' '47M' '556k' '526k' '76M' '7.6M' '59M'\n",
      " '9.7M' '78M' '72M' '43M' '7.7M' '6.3M' '334k' '34M' '93M' '65M' '79M'\n",
      " '100M' '58M' '50M' '68M' '64M' '67M' '60M' '94M' '232k' '99M' '624k'\n",
      " '95M' '8.5k' '41k' '292k' '11k' '80M' '1.7M' '74M' '62M' '69M' '75M'\n",
      " '98M' '85M' '82M' '96M' '87M' '71M' '86M' '91M' '81M' '92M' '83M' '88M'\n",
      " '704k' '862k' '899k' '378k' '266k' '375k' '1.3M' '975k' '980k' '4.1M'\n",
      " '89M' '696k' '544k' '525k' '920k' '779k' '853k' '720k' '713k' '772k'\n",
      " '318k' '58k' '241k' '196k' '857k' '51k' '953k' '865k' '251k' '930k'\n",
      " '540k' '313k' '746k' '203k' '26k' '314k' '239k' '371k' '220k' '730k'\n",
      " '756k' '91k' '293k' '17k' '74k' '14k' '317k' '78k' '924k' '902k' '818k'\n",
      " '81k' '939k' '169k' '45k' '475k' '965k' '90M' '545k' '61k' '283k' '655k'\n",
      " '714k' '93k' '872k' '121k' '322k' '1.0M' '976k' '172k' '238k' '549k'\n",
      " '206k' '954k' '444k' '717k' '210k' '609k' '308k' '705k' '306k' '904k'\n",
      " '473k' '175k' '350k' '383k' '454k' '421k' '70k' '812k' '442k' '842k'\n",
      " '417k' '412k' '459k' '478k' '335k' '782k' '721k' '430k' '429k' '192k'\n",
      " '200k' '460k' '728k' '496k' '816k' '414k' '506k' '887k' '613k' '243k'\n",
      " '569k' '778k' '683k' '592k' '319k' '186k' '840k' '647k' '191k' '373k'\n",
      " '437k' '598k' '716k' '585k' '982k' '222k' '219k' '55k' '948k' '323k'\n",
      " '691k' '511k' '951k' '963k' '25k' '554k' '351k' '27k' '82k' '208k' '913k'\n",
      " '514k' '551k' '29k' '103k' '898k' '743k' '116k' '153k' '209k' '353k'\n",
      " '499k' '173k' '597k' '809k' '122k' '411k' '400k' '801k' '787k' '237k'\n",
      " '50k' '643k' '986k' '97k' '516k' '837k' '780k' '961k' '269k' '20k' '498k'\n",
      " '600k' '749k' '642k' '881k' '72k' '656k' '601k' '221k' '228k' '108k'\n",
      " '940k' '176k' '33k' '663k' '34k' '942k' '259k' '164k' '458k' '245k'\n",
      " '629k' '28k' '288k' '775k' '785k' '636k' '916k' '994k' '309k' '485k'\n",
      " '914k' '903k' '608k' '500k' '54k' '562k' '847k' '957k' '688k' '811k'\n",
      " '270k' '48k' '329k' '523k' '921k' '874k' '981k' '784k' '280k' '24k'\n",
      " '518k' '754k' '892k' '154k' '860k' '364k' '387k' '626k' '161k' '879k'\n",
      " '39k' '970k' '170k' '141k' '160k' '144k' '143k' '190k' '376k' '193k'\n",
      " '246k' '73k' '658k' '992k' '253k' '420k' '404k' '470k' '226k' '240k'\n",
      " '89k' '234k' '257k' '861k' '467k' '157k' '44k' '676k' '67k' '552k' '885k'\n",
      " '1020k' '582k' '619k']\n"
     ]
    }
   ],
   "source": [
    "# column 4 - Size\n",
    "\n",
    "print(data_app['Size'].unique())"
   ]
  },
  {
   "cell_type": "code",
   "execution_count": null,
   "id": "cccc75e9",
   "metadata": {},
   "outputs": [],
   "source": []
  },
  {
   "cell_type": "code",
   "execution_count": 12,
   "id": "b7b64e3e",
   "metadata": {},
   "outputs": [
    {
     "name": "stdout",
     "output_type": "stream",
     "text": [
      "[1.e+04 5.e+05 5.e+06 5.e+07 1.e+05 5.e+04 1.e+06 1.e+07 5.e+03 1.e+08\n",
      " 1.e+09 1.e+03 5.e+08 5.e+01 1.e+02 5.e+02 1.e+01 1.e+00 5.e+00 0.e+00]\n"
     ]
    }
   ],
   "source": [
    "# column 5 -Installs\n",
    "\n",
    "print(data_app['Installs'].unique())"
   ]
  },
  {
   "cell_type": "code",
   "execution_count": 13,
   "id": "1d5967dc",
   "metadata": {},
   "outputs": [
    {
     "name": "stdout",
     "output_type": "stream",
     "text": [
      "['Free' 'Paid' nan]\n"
     ]
    }
   ],
   "source": [
    "# column 6 -Type\n",
    "\n",
    "print(data_app['Type'].unique())"
   ]
  },
  {
   "cell_type": "code",
   "execution_count": 14,
   "id": "2865546c",
   "metadata": {},
   "outputs": [
    {
     "name": "stdout",
     "output_type": "stream",
     "text": [
      "[  0.     4.99   3.99   6.99   1.49   2.99   7.99   5.99   3.49   1.99\n",
      "   9.99   7.49   0.99   9.     5.49  10.    24.99  11.99  79.99  16.99\n",
      "  14.99   1.    29.99  12.99   2.49  10.99   1.5   19.99  15.99  33.99\n",
      "  74.99  39.99   3.95   4.49   1.7    8.99   2.     3.88  25.99 399.99\n",
      "  17.99 400.     3.02   1.76   4.84   4.77   1.61   2.5    1.59   6.49\n",
      "   1.29   5.    13.99 299.99 379.99  37.99  18.99 389.99  19.9    8.49\n",
      "   1.75  14.     4.85  46.99 109.99 154.99   3.08   2.59   4.8    1.96\n",
      "  19.4    3.9    4.59  15.46   3.04   4.29   2.6    3.28   4.6   28.99\n",
      "   2.95   2.9    1.97 200.    89.99   2.56  30.99   3.61 394.99   1.26\n",
      "   1.2    1.04]\n"
     ]
    }
   ],
   "source": [
    "# column 7 - Price\n",
    "\n",
    "print(data_app['Price'].unique())"
   ]
  },
  {
   "cell_type": "code",
   "execution_count": 15,
   "id": "493442f3",
   "metadata": {},
   "outputs": [
    {
     "name": "stdout",
     "output_type": "stream",
     "text": [
      "['Everyone' 'Teen' 'Everyone 10+' 'Mature 17+' 'Adults only 18+' 'Unrated']\n"
     ]
    }
   ],
   "source": [
    "# column 8 - content rating \n",
    "\n",
    "print(data_app['Content Rating'].unique())"
   ]
  },
  {
   "cell_type": "code",
   "execution_count": 16,
   "id": "df912905",
   "metadata": {},
   "outputs": [
    {
     "name": "stdout",
     "output_type": "stream",
     "text": [
      "['Art & Design' 'Art & Design;Pretend Play' 'Art & Design;Creativity'\n",
      " 'Art & Design;Action & Adventure' 'Auto & Vehicles' 'Beauty'\n",
      " 'Books & Reference' 'Business' 'Comics' 'Comics;Creativity'\n",
      " 'Communication' 'Dating' 'Education;Education' 'Education'\n",
      " 'Education;Creativity' 'Education;Music & Video'\n",
      " 'Education;Action & Adventure' 'Education;Pretend Play'\n",
      " 'Education;Brain Games' 'Entertainment' 'Entertainment;Music & Video'\n",
      " 'Entertainment;Brain Games' 'Entertainment;Creativity' 'Events' 'Finance'\n",
      " 'Food & Drink' 'Health & Fitness' 'House & Home' 'Libraries & Demo'\n",
      " 'Lifestyle' 'Lifestyle;Pretend Play' 'Adventure;Action & Adventure'\n",
      " 'Arcade' 'Casual' 'Card' 'Casual;Pretend Play' 'Action' 'Strategy'\n",
      " 'Puzzle' 'Sports' 'Music' 'Word' 'Racing' 'Casual;Creativity'\n",
      " 'Casual;Action & Adventure' 'Simulation' 'Adventure' 'Board' 'Trivia'\n",
      " 'Role Playing' 'Simulation;Education' 'Action;Action & Adventure'\n",
      " 'Casual;Brain Games' 'Simulation;Action & Adventure'\n",
      " 'Educational;Creativity' 'Puzzle;Brain Games' 'Educational;Education'\n",
      " 'Card;Brain Games' 'Educational;Brain Games' 'Educational;Pretend Play'\n",
      " 'Entertainment;Education' 'Casual;Education' 'Music;Music & Video'\n",
      " 'Racing;Action & Adventure' 'Arcade;Pretend Play'\n",
      " 'Role Playing;Action & Adventure' 'Simulation;Pretend Play'\n",
      " 'Puzzle;Creativity' 'Sports;Action & Adventure'\n",
      " 'Educational;Action & Adventure' 'Arcade;Action & Adventure'\n",
      " 'Entertainment;Action & Adventure' 'Puzzle;Action & Adventure'\n",
      " 'Strategy;Action & Adventure' 'Music & Audio;Music & Video'\n",
      " 'Health & Fitness;Education' 'Adventure;Education' 'Board;Brain Games'\n",
      " 'Board;Action & Adventure' 'Board;Pretend Play' 'Casual;Music & Video'\n",
      " 'Role Playing;Pretend Play' 'Entertainment;Pretend Play'\n",
      " 'Video Players & Editors;Creativity' 'Card;Action & Adventure' 'Medical'\n",
      " 'Social' 'Shopping' 'Photography' 'Travel & Local'\n",
      " 'Travel & Local;Action & Adventure' 'Tools' 'Tools;Education'\n",
      " 'Personalization' 'Productivity' 'Parenting' 'Parenting;Music & Video'\n",
      " 'Parenting;Education' 'Parenting;Brain Games' 'Weather'\n",
      " 'Video Players & Editors' 'Video Players & Editors;Music & Video'\n",
      " 'News & Magazines' 'Maps & Navigation'\n",
      " 'Health & Fitness;Action & Adventure' 'Educational' 'Casino'\n",
      " 'Adventure;Brain Games' 'Trivia;Education' 'Lifestyle;Education'\n",
      " 'Books & Reference;Creativity' 'Books & Reference;Education'\n",
      " 'Puzzle;Education' 'Role Playing;Education' 'Role Playing;Brain Games'\n",
      " 'Strategy;Education' 'Racing;Pretend Play' 'Communication;Creativity'\n",
      " 'Strategy;Creativity']\n"
     ]
    }
   ],
   "source": [
    "# column 9 - Genres\n",
    "\n",
    "print(data_app['Genres'].unique())"
   ]
  },
  {
   "cell_type": "code",
   "execution_count": 17,
   "id": "3e953d94",
   "metadata": {},
   "outputs": [
    {
     "name": "stdout",
     "output_type": "stream",
     "text": [
      "['07-01-2018' '15-01-2018' '01-08-2018' ... '20-01-2014' '16-02-2014'\n",
      " '23-03-2014']\n"
     ]
    }
   ],
   "source": [
    "# column 10 - Last Updated\n",
    "\n",
    "print(data_app['Last Updated'].unique())"
   ]
  },
  {
   "cell_type": "code",
   "execution_count": 18,
   "id": "72b53e7d",
   "metadata": {},
   "outputs": [
    {
     "name": "stdout",
     "output_type": "stream",
     "text": [
      "['1.0.0' '2.0.0' '1.2.4' ... '1.0.612928' '0.3.4' '2.0.148.0']\n"
     ]
    }
   ],
   "source": [
    "# column 11 - current version\n",
    "\n",
    "print(data_app['Current Ver'].unique())"
   ]
  },
  {
   "cell_type": "code",
   "execution_count": 19,
   "id": "3a389a79",
   "metadata": {},
   "outputs": [
    {
     "name": "stdout",
     "output_type": "stream",
     "text": [
      "['4.0.3 and up' '4.2 and up' '4.4 and up' '2.3 and up' '3.0 and up'\n",
      " '4.1 and up' '4.0 and up' '2.3.3 and up' 'Varies with device'\n",
      " '2.2 and up' '5.0 and up' '6.0 and up' '1.6 and up' '1.5 and up'\n",
      " '2.1 and up' '7.0 and up' '5.1 and up' '4.3 and up' '4.0.3 - 7.1.1'\n",
      " '2.0 and up' '3.2 and up' '4.4W and up' '7.1 and up' '7.0 - 7.1.1'\n",
      " '8.0 and up' '5.0 - 8.0' '3.1 and up' '2.0.1 and up' '4.1 - 7.1.1' nan\n",
      " '5.0 - 6.0' '1.0 and up' '2.2 - 7.1.1' '5.0 - 7.1.1']\n"
     ]
    }
   ],
   "source": [
    "# column 12 - Android Version\n",
    "\n",
    "print(data_app['Android Ver'].unique())"
   ]
  },
  {
   "cell_type": "code",
   "execution_count": 20,
   "id": "e209acba",
   "metadata": {},
   "outputs": [
    {
     "data": {
      "text/plain": [
       "Category           object\n",
       "Rating            float64\n",
       "Reviews           float64\n",
       "Size               object\n",
       "Installs          float64\n",
       "Type               object\n",
       "Price             float64\n",
       "Content Rating     object\n",
       "Genres             object\n",
       "Last Updated       object\n",
       "Current Ver        object\n",
       "Android Ver        object\n",
       "dtype: object"
      ]
     },
     "execution_count": 20,
     "metadata": {},
     "output_type": "execute_result"
    }
   ],
   "source": [
    "# Checking for correct data types\n",
    "\n",
    "data_app.dtypes"
   ]
  },
  {
   "cell_type": "code",
   "execution_count": 21,
   "id": "26e0bf9f",
   "metadata": {},
   "outputs": [
    {
     "name": "stdout",
     "output_type": "stream",
     "text": [
      "                               Category  Rating  Reviews  Size  Installs  \\\n",
      "App                                                                        \n",
      "[substratum] Vacuum: P  PERSONALIZATION     4.4    230.0   11M    1000.0   \n",
      "Pi Dark [substratum]    PERSONALIZATION     4.5    189.0  2.1M   10000.0   \n",
      "\n",
      "                        Type  Price Content Rating           Genres  \\\n",
      "App                                                                   \n",
      "[substratum] Vacuum: P  Paid   1.49       Everyone  Personalization   \n",
      "Pi Dark [substratum]    Free   0.00       Everyone  Personalization   \n",
      "\n",
      "                       Last Updated Current Ver Android Ver  \n",
      "App                                                          \n",
      "[substratum] Vacuum: P   20-07-2018         4.4         NaN  \n",
      "Pi Dark [substratum]     27-03-2018         1.1         NaN  \n"
     ]
    }
   ],
   "source": [
    "print(data_app[data_app['Android Ver'].isna()])"
   ]
  },
  {
   "cell_type": "code",
   "execution_count": null,
   "id": "4100b3bd",
   "metadata": {},
   "outputs": [],
   "source": []
  },
  {
   "cell_type": "markdown",
   "id": "4366a994",
   "metadata": {},
   "source": [
    "### Now moving onto the second dataset\n"
   ]
  },
  {
   "cell_type": "code",
   "execution_count": 22,
   "id": "75d3e9ff",
   "metadata": {},
   "outputs": [
    {
     "data": {
      "text/html": [
       "<div>\n",
       "<style scoped>\n",
       "    .dataframe tbody tr th:only-of-type {\n",
       "        vertical-align: middle;\n",
       "    }\n",
       "\n",
       "    .dataframe tbody tr th {\n",
       "        vertical-align: top;\n",
       "    }\n",
       "\n",
       "    .dataframe thead th {\n",
       "        text-align: right;\n",
       "    }\n",
       "</style>\n",
       "<table border=\"1\" class=\"dataframe\">\n",
       "  <thead>\n",
       "    <tr style=\"text-align: right;\">\n",
       "      <th></th>\n",
       "      <th>Translated_Review</th>\n",
       "      <th>Sentiment</th>\n",
       "      <th>Sentiment_Polarity</th>\n",
       "      <th>Sentiment_Subjectivity</th>\n",
       "    </tr>\n",
       "    <tr>\n",
       "      <th>App</th>\n",
       "      <th></th>\n",
       "      <th></th>\n",
       "      <th></th>\n",
       "      <th></th>\n",
       "    </tr>\n",
       "  </thead>\n",
       "  <tbody>\n",
       "    <tr>\n",
       "      <th>10 Best Foods for You</th>\n",
       "      <td>I like eat delicious food. That's I'm cooking ...</td>\n",
       "      <td>Positive</td>\n",
       "      <td>1.00</td>\n",
       "      <td>0.533333</td>\n",
       "    </tr>\n",
       "    <tr>\n",
       "      <th>10 Best Foods for You</th>\n",
       "      <td>This help eating healthy exercise regular basis</td>\n",
       "      <td>Positive</td>\n",
       "      <td>0.25</td>\n",
       "      <td>0.288462</td>\n",
       "    </tr>\n",
       "    <tr>\n",
       "      <th>10 Best Foods for You</th>\n",
       "      <td>NaN</td>\n",
       "      <td>NaN</td>\n",
       "      <td>NaN</td>\n",
       "      <td>NaN</td>\n",
       "    </tr>\n",
       "    <tr>\n",
       "      <th>10 Best Foods for You</th>\n",
       "      <td>Works great especially going grocery store</td>\n",
       "      <td>Positive</td>\n",
       "      <td>0.40</td>\n",
       "      <td>0.875000</td>\n",
       "    </tr>\n",
       "    <tr>\n",
       "      <th>10 Best Foods for You</th>\n",
       "      <td>Best idea us</td>\n",
       "      <td>Positive</td>\n",
       "      <td>1.00</td>\n",
       "      <td>0.300000</td>\n",
       "    </tr>\n",
       "  </tbody>\n",
       "</table>\n",
       "</div>"
      ],
      "text/plain": [
       "                                                       Translated_Review  \\\n",
       "App                                                                        \n",
       "10 Best Foods for You  I like eat delicious food. That's I'm cooking ...   \n",
       "10 Best Foods for You    This help eating healthy exercise regular basis   \n",
       "10 Best Foods for You                                                NaN   \n",
       "10 Best Foods for You         Works great especially going grocery store   \n",
       "10 Best Foods for You                                       Best idea us   \n",
       "\n",
       "                      Sentiment  Sentiment_Polarity  Sentiment_Subjectivity  \n",
       "App                                                                          \n",
       "10 Best Foods for You  Positive                1.00                0.533333  \n",
       "10 Best Foods for You  Positive                0.25                0.288462  \n",
       "10 Best Foods for You       NaN                 NaN                     NaN  \n",
       "10 Best Foods for You  Positive                0.40                0.875000  \n",
       "10 Best Foods for You  Positive                1.00                0.300000  "
      ]
     },
     "execution_count": 22,
     "metadata": {},
     "output_type": "execute_result"
    }
   ],
   "source": [
    "\n",
    "path = \"D:\\CAT 2020\\python\\python Git projects\\playstoreliveproj\\Raw dataset\\playstore_reviews.csv\"\n",
    "data_reviews = pd.read_csv(path,index_col = 'App')\n",
    "data_reviews.head()"
   ]
  },
  {
   "cell_type": "code",
   "execution_count": 23,
   "id": "8994fb53",
   "metadata": {},
   "outputs": [
    {
     "name": "stdout",
     "output_type": "stream",
     "text": [
      "(64295, 4)\n",
      "(37427, 4)\n"
     ]
    }
   ],
   "source": [
    "# Dropping NaN/null values\n",
    "\n",
    "print(data_reviews.shape)\n",
    "data_reviews.dropna(inplace= True)\n",
    "print(data_reviews.shape)\n"
   ]
  },
  {
   "cell_type": "code",
   "execution_count": 24,
   "id": "a7ddf46e",
   "metadata": {},
   "outputs": [
    {
     "data": {
      "text/html": [
       "<div>\n",
       "<style scoped>\n",
       "    .dataframe tbody tr th:only-of-type {\n",
       "        vertical-align: middle;\n",
       "    }\n",
       "\n",
       "    .dataframe tbody tr th {\n",
       "        vertical-align: top;\n",
       "    }\n",
       "\n",
       "    .dataframe thead th {\n",
       "        text-align: right;\n",
       "    }\n",
       "</style>\n",
       "<table border=\"1\" class=\"dataframe\">\n",
       "  <thead>\n",
       "    <tr style=\"text-align: right;\">\n",
       "      <th></th>\n",
       "      <th>Translated_Review</th>\n",
       "      <th>Sentiment</th>\n",
       "      <th>Sentiment_Polarity</th>\n",
       "      <th>Sentiment_Subjectivity</th>\n",
       "    </tr>\n",
       "    <tr>\n",
       "      <th>App</th>\n",
       "      <th></th>\n",
       "      <th></th>\n",
       "      <th></th>\n",
       "      <th></th>\n",
       "    </tr>\n",
       "  </thead>\n",
       "  <tbody>\n",
       "    <tr>\n",
       "      <th>10 Best Foods for You</th>\n",
       "      <td>I like eat delicious food. That's I'm cooking ...</td>\n",
       "      <td>Positive</td>\n",
       "      <td>1.00</td>\n",
       "      <td>0.533333</td>\n",
       "    </tr>\n",
       "    <tr>\n",
       "      <th>10 Best Foods for You</th>\n",
       "      <td>This help eating healthy exercise regular basis</td>\n",
       "      <td>Positive</td>\n",
       "      <td>0.25</td>\n",
       "      <td>0.288462</td>\n",
       "    </tr>\n",
       "    <tr>\n",
       "      <th>10 Best Foods for You</th>\n",
       "      <td>Works great especially going grocery store</td>\n",
       "      <td>Positive</td>\n",
       "      <td>0.40</td>\n",
       "      <td>0.875000</td>\n",
       "    </tr>\n",
       "    <tr>\n",
       "      <th>10 Best Foods for You</th>\n",
       "      <td>Best idea us</td>\n",
       "      <td>Positive</td>\n",
       "      <td>1.00</td>\n",
       "      <td>0.300000</td>\n",
       "    </tr>\n",
       "    <tr>\n",
       "      <th>10 Best Foods for You</th>\n",
       "      <td>Best way</td>\n",
       "      <td>Positive</td>\n",
       "      <td>1.00</td>\n",
       "      <td>0.300000</td>\n",
       "    </tr>\n",
       "  </tbody>\n",
       "</table>\n",
       "</div>"
      ],
      "text/plain": [
       "                                                       Translated_Review  \\\n",
       "App                                                                        \n",
       "10 Best Foods for You  I like eat delicious food. That's I'm cooking ...   \n",
       "10 Best Foods for You    This help eating healthy exercise regular basis   \n",
       "10 Best Foods for You         Works great especially going grocery store   \n",
       "10 Best Foods for You                                       Best idea us   \n",
       "10 Best Foods for You                                           Best way   \n",
       "\n",
       "                      Sentiment  Sentiment_Polarity  Sentiment_Subjectivity  \n",
       "App                                                                          \n",
       "10 Best Foods for You  Positive                1.00                0.533333  \n",
       "10 Best Foods for You  Positive                0.25                0.288462  \n",
       "10 Best Foods for You  Positive                0.40                0.875000  \n",
       "10 Best Foods for You  Positive                1.00                0.300000  \n",
       "10 Best Foods for You  Positive                1.00                0.300000  "
      ]
     },
     "execution_count": 24,
     "metadata": {},
     "output_type": "execute_result"
    }
   ],
   "source": [
    "data_reviews.head()\n"
   ]
  },
  {
   "cell_type": "markdown",
   "id": "15f15d59",
   "metadata": {},
   "source": [
    "### Exporting processed datasets as csv files\n"
   ]
  },
  {
   "cell_type": "code",
   "execution_count": 25,
   "id": "bdef2e2b",
   "metadata": {},
   "outputs": [],
   "source": [
    "\n",
    "data_app.to_csv(r\"D:\\CAT 2020\\python\\python Git projects\\playstoreliveproj\\Processed dataset\\app_data.csv\")\n",
    "data_reviews.to_csv(r\"D:\\CAT 2020\\python\\python Git projects\\playstoreliveproj\\Processed dataset\\reviews_data.csv\")"
   ]
  },
  {
   "cell_type": "code",
   "execution_count": null,
   "id": "d2d910a9",
   "metadata": {},
   "outputs": [],
   "source": []
  }
 ],
 "metadata": {
  "kernelspec": {
   "display_name": "Python 3 (ipykernel)",
   "language": "python",
   "name": "python3"
  },
  "language_info": {
   "codemirror_mode": {
    "name": "ipython",
    "version": 3
   },
   "file_extension": ".py",
   "mimetype": "text/x-python",
   "name": "python",
   "nbconvert_exporter": "python",
   "pygments_lexer": "ipython3",
   "version": "3.11.1"
  }
 },
 "nbformat": 4,
 "nbformat_minor": 5
}
